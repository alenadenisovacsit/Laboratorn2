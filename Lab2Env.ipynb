{
 "cells": [
  {
   "cell_type": "markdown",
   "id": "ef19e55d",
   "metadata": {},
   "source": [
    "ОТЧЁТ: Лабораторная 2. Практикум 2. Денисова Алена, 361 группа, КНиИТ, ПО"
   ]
  },
  {
   "cell_type": "markdown",
   "id": "d8417ac6",
   "metadata": {},
   "source": [
    "Создаем проект с виртуальным окружением в среде \"PyCharm\", включаем git для действующего проекта, добавляем отслеживание для нашего проекта и проверяем файл \n",
    "gitignore"
   ]
  },
  {
   "cell_type": "markdown",
   "id": "c2550acc",
   "metadata": {},
   "source": [
    "![](https://sun9-87.userapi.com/impg/hmjD5nD2D5SGcN-puPdj58RzCqoBkxBkR5I3vg/13I3XQ5CMHU.jpg?size=662x194&quality=96&sign=a3d6ee721543b70591c012304b88bda6&type=album)"
   ]
  },
  {
   "cell_type": "markdown",
   "id": "6e27484a",
   "metadata": {},
   "source": [
    "![](https://sun9-73.userapi.com/impg/J9cAEOdJNldl3clQodmqvoOpInLwhCd_g87BcA/gFcgXL_3GUM.jpg?size=1147x134&quality=96&sign=6b4baefe9f1d977cabe9cfa3cdf72876&type=album)"
   ]
  },
  {
   "cell_type": "markdown",
   "id": "348da513",
   "metadata": {},
   "source": [
    "![](https://sun9-83.userapi.com/impg/or3oKe553Low14eM6Noh3AxEjLVMR6Mz9yzWsQ/OE5dKGeKnGo.jpg?size=262x30&quality=96&sign=90f0ffcf71e99bd6d047f81d52270f4a&type=album)"
   ]
  },
  {
   "cell_type": "markdown",
   "id": "f0ec2155",
   "metadata": {},
   "source": [
    "Создаём функцию с декоратором для нее"
   ]
  },
  {
   "cell_type": "markdown",
   "id": "f64a3d93",
   "metadata": {},
   "source": [
    "![](https://sun9-61.userapi.com/impg/7McuzGmRA-NL1NwxNsI3ZzP88A0r45dncXCv7w/ZlMYe6odLSw.jpg?size=1280x655&quality=96&sign=6da097057bc9a53408fd533579ffc284&type=album)"
   ]
  },
  {
   "cell_type": "markdown",
   "id": "4cbbee6f",
   "metadata": {},
   "source": [
    "Создаём коммит"
   ]
  },
  {
   "cell_type": "markdown",
   "id": "43531767",
   "metadata": {},
   "source": [
    "![](https://sun9-11.userapi.com/impg/V0X4d3J4xLmLaIv0Mqk_WCuXOKs4sPimCzCkUQ/wWCdXYUG7Po.jpg?size=1053x135&quality=96&sign=59e8a11b404bb6ddb8b4628ef5906638&type=album)"
   ]
  },
  {
   "cell_type": "markdown",
   "id": "14c87bd4",
   "metadata": {},
   "source": [
    "Добавим еще одну функцию с декоратором, а также новый коммит"
   ]
  },
  {
   "cell_type": "markdown",
   "id": "d7aac146",
   "metadata": {},
   "source": [
    "![](https://sun9-4.userapi.com/impg/aYTHnqX89X09LY2RgMbG5KbySH1xJ05epkDywQ/MK5YoXS1wOo.jpg?size=326x187&quality=96&sign=83e729a57c213a7c57ceaec190824d89&type=album)"
   ]
  },
  {
   "cell_type": "markdown",
   "id": "2a9f394e",
   "metadata": {},
   "source": [
    "![](https://sun9-13.userapi.com/impg/Zggu6wNO9xuSz592qBOUiHnLOS13mSsSi3C9WQ/nmXUFrYvURY.jpg?size=222x77&quality=96&sign=9b39e85f4e41de81869408dd7ca79c90&type=album)"
   ]
  },
  {
   "cell_type": "markdown",
   "id": "68555475",
   "metadata": {},
   "source": [
    "![](https://sun9-10.userapi.com/impg/4srO6fAiOorfR7UBNPyZ7mK1HNCh2uvPZWRwAg/Qkg6PW2ueRE.jpg?size=1105x78&quality=96&sign=63db566a3ddbfd9586efa1a4d7c645ad&type=album)"
   ]
  },
  {
   "cell_type": "markdown",
   "id": "c2040987",
   "metadata": {},
   "source": [
    "Создаём новую ветку и переходим на неё"
   ]
  },
  {
   "cell_type": "markdown",
   "id": "9818134e",
   "metadata": {},
   "source": [
    "![](https://sun9-47.userapi.com/impg/rJp6VoaqmhaHUBRfPLXdKzE6aGuQc1THCCg-Hg/SPOKwFR3VTs.jpg?size=496x274&quality=96&sign=cfd566fb6c671d5970cd0b1c05c05388&type=album)"
   ]
  },
  {
   "cell_type": "markdown",
   "id": "53c71c44",
   "metadata": {},
   "source": [
    "![](https://sun9-35.userapi.com/impg/-tUxGr5BWcd8trcEx0izhf1JwHuYSGJ9RRPB5g/EYPgJzvZcG4.jpg?size=1280x251&quality=96&sign=ada8e9f65d87eb33532d5e8cf33f0426&type=album)"
   ]
  },
  {
   "cell_type": "markdown",
   "id": "c31df926",
   "metadata": {},
   "source": [
    "![](https://sun9-63.userapi.com/impg/VP8QfPtbm04kVNflMuq6sGCrPp2kJtjfIc1_EA/p96cxH74gX0.jpg?size=379x53&quality=96&sign=20a07c160c5fcb7eb1ff52b4fb159161&type=album)"
   ]
  },
  {
   "cell_type": "markdown",
   "id": "f709f0d3",
   "metadata": {},
   "source": [
    "Создаём ещё одну функцию и применяем к ней два декоратора"
   ]
  },
  {
   "cell_type": "markdown",
   "id": "84f32184",
   "metadata": {},
   "source": [
    "![](https://sun9-86.userapi.com/impg/PZkRxYCWDPnFniOsjOfYMTDCHlq-pRD7KGGGZg/609UYN7G_MI.jpg?size=305x214&quality=96&sign=52f16b131bd35c62a1b7b9941e1c7e37&type=album)"
   ]
  },
  {
   "cell_type": "markdown",
   "id": "a0b64732",
   "metadata": {},
   "source": [
    "![](https://sun9-58.userapi.com/impg/9_xkXLkvdflCkkBSrlJ0pQhZFGmO3a7lv3MlFA/xHrQM0FFjUM.jpg?size=263x101&quality=96&sign=223a897f82584241ed296dca90f03693&type=album)"
   ]
  },
  {
   "cell_type": "markdown",
   "id": "5ebedce3",
   "metadata": {},
   "source": [
    "Проверим разницу между нашим кодом на данный момент и коммитом, который мы создавали ранее"
   ]
  },
  {
   "cell_type": "markdown",
   "id": "e2ab2365",
   "metadata": {},
   "source": [
    "![](https://sun9-83.userapi.com/impg/FBLPC_wYST9p2JVpxzHmhNAA4JazLnUWHv781A/JNt6NvMkID4.jpg?size=892x346&quality=96&sign=83ff3e6996a2e29aab511ef7bfd56ad0&type=album)"
   ]
  },
  {
   "cell_type": "markdown",
   "id": "3215a708",
   "metadata": {},
   "source": [
    "Создаём третий коммит"
   ]
  },
  {
   "cell_type": "markdown",
   "id": "5d6b921d",
   "metadata": {},
   "source": [
    "![](https://sun9-40.userapi.com/impg/VazCMhwDY2eYa_X-A6LETxFZdK3K77RHpwDyww/XQmTsqYnGo4.jpg?size=1280x273&quality=96&sign=a80aaf9266abb211319d9e41ef32e28f&type=album)"
   ]
  },
  {
   "cell_type": "markdown",
   "id": "8389cfe2",
   "metadata": {},
   "source": [
    "Перенесём код на другую ветку и сольём их"
   ]
  },
  {
   "cell_type": "markdown",
   "id": "26204b84",
   "metadata": {},
   "source": [
    "![](https://sun9-88.userapi.com/impg/vgWrMxZ745HKU-vsZx_-7e_AdVyQZVc33ATBQw/vQ88FMQ12wQ.jpg?size=408x32&quality=96&sign=74cc7b4159bbf6688730f02117fd6132&type=album)"
   ]
  },
  {
   "cell_type": "markdown",
   "id": "84c8e259",
   "metadata": {},
   "source": [
    "![](https://sun9-44.userapi.com/impg/IYIE4Ucg5dGoth37tfPvX6wkYwxxWFo16kauXw/0stXEBCGlr0.jpg?size=478x246&quality=96&sign=50a8b9271a2af8dae80118f26d49c0bd&type=album)"
   ]
  },
  {
   "cell_type": "markdown",
   "id": "eba3d59d",
   "metadata": {},
   "source": [
    "Чтобы перейти между коммитами необходимо выполнить следующее действие:"
   ]
  },
  {
   "cell_type": "markdown",
   "id": "1de03ce6",
   "metadata": {},
   "source": [
    "![](https://sun9-44.userapi.com/impg/k0aav-iVpXFNUqO1XP1zlHS5pMh1CtOBklg_Sw/mchUTBpZydI.jpg?size=1280x467&quality=96&sign=4cee1c6a6b90b48cfbe5d5e0da6793a9&type=album)"
   ]
  },
  {
   "cell_type": "markdown",
   "id": "f5e559b0",
   "metadata": {},
   "source": [
    "![](https://sun9-27.userapi.com/impg/o1RjzzJ08V9l1TE1f5nEHO6-zGXFPUhydBIseQ/D-GXui6va30.jpg?size=422x61&quality=96&sign=45bd2a0b3235ca0705103ab5d3c3dbba&type=album)"
   ]
  },
  {
   "cell_type": "markdown",
   "id": "5189298f",
   "metadata": {},
   "source": [
    "Чтобы перейти на последний коммит ветки следующее:"
   ]
  },
  {
   "cell_type": "markdown",
   "id": "ed6483be",
   "metadata": {},
   "source": [
    "![](https://sun9-43.userapi.com/impg/RXw_GRILq1FODnA55njTqA_-QYhGRcavCVpXsA/fnPh2GIDKaI.jpg?size=973x441&quality=96&sign=5aaaa65454d66d78f0236947d426a12a&type=album)"
   ]
  },
  {
   "cell_type": "markdown",
   "id": "2171fbc8",
   "metadata": {},
   "source": [
    "Чтобы отменить коммит щёлкаем по нему правой кнопки мыши, выбираем \"reset current branch to here\""
   ]
  },
  {
   "cell_type": "markdown",
   "id": "057dfe1a",
   "metadata": {},
   "source": [
    "![](https://sun9-28.userapi.com/impg/v7o0Wxb35cXVo2SAS06cEEfIWLLy8iGXcrN2kA/vQfMEyliMMU.jpg?size=778x476&quality=96&sign=4aa4b57a4a5775342428eb65cb3c7bbf&type=album)"
   ]
  },
  {
   "cell_type": "markdown",
   "id": "1b05f8c4",
   "metadata": {},
   "source": [
    "![](https://sun7-8.userapi.com/impg/bGOkyJfl33cdUu_X5i__s4nUK71PjzlVdAb-ZA/n9WNbboLtfw.jpg?size=175x79&quality=96&sign=ee819de6a60c669cb25375306655f240&type=album)"
   ]
  },
  {
   "cell_type": "code",
   "execution_count": null,
   "id": "4a4b056a",
   "metadata": {},
   "outputs": [],
   "source": []
  }
 ],
 "metadata": {
  "kernelspec": {
   "display_name": "Python 3 (ipykernel)",
   "language": "python",
   "name": "python3"
  },
  "language_info": {
   "codemirror_mode": {
    "name": "ipython",
    "version": 3
   },
   "file_extension": ".py",
   "mimetype": "text/x-python",
   "name": "python",
   "nbconvert_exporter": "python",
   "pygments_lexer": "ipython3",
   "version": "3.9.12"
  }
 },
 "nbformat": 4,
 "nbformat_minor": 5
}
