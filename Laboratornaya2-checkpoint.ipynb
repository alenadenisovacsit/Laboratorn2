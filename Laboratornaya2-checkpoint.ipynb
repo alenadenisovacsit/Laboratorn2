{
 "cells": [
  {
   "cell_type": "markdown",
   "id": "ef4cdc05",
   "metadata": {},
   "source": [
    "ОТЧЁТ: Денисова Алена, 361 группа, КНиИТ, ПО"
   ]
  },
  {
   "cell_type": "markdown",
   "id": "6421d415",
   "metadata": {},
   "source": [
    "Устанавливаем Git, создаем новый каталог на диске, запускаем git-bush и конфигурируем данные о себе"
   ]
  },
  {
   "cell_type": "markdown",
   "id": "e83fbdbe",
   "metadata": {},
   "source": [
    "![](https://sun9-43.userapi.com/impg/_pbcc1X-JqyMpTTRd5LFAinlvKvsOmi00CHV4Q/hCTpyIEyGtI.jpg?size=621x116&quality=96&sign=e628de315f0f3216cf9b03efb73b78f7&type=album)"
   ]
  },
  {
   "cell_type": "markdown",
   "id": "4be761c1",
   "metadata": {},
   "source": [
    "Инициализируем репозиторий git"
   ]
  },
  {
   "cell_type": "markdown",
   "id": "565ada74",
   "metadata": {},
   "source": [
    "![](https://sun9-24.userapi.com/impg/PO5tb_JhUOFd9lMRvT9yPICAplzJRvndNzj3DA/HNMsbRrJ9Mc.jpg?size=597x87&quality=96&sign=94a73c9621847e6b48d987960c5ac206&type=album)"
   ]
  },
  {
   "cell_type": "markdown",
   "id": "245fc7eb",
   "metadata": {},
   "source": [
    "![](https://sun9-34.userapi.com/impg/ta0b_6TFhyaW_44gp6tVmKUo948lK6n9B_q4_A/Jp5WVeZLqCM.jpg?size=274x97&quality=96&sign=33d8441643c488e47e04b41212f0e646&type=album)"
   ]
  },
  {
   "cell_type": "markdown",
   "id": "9fe325be",
   "metadata": {},
   "source": [
    "В среде разработки \"IDLE\" создадим модуль с программный кодом на ЯП Python"
   ]
  },
  {
   "cell_type": "markdown",
   "id": "5bffe580",
   "metadata": {},
   "source": [
    "![](https://sun9-16.userapi.com/impg/Yb0VYpH1hZ0ePObi0F8v6QB2tYd_p6AhE5K9Zg/clxSHDYPnKY.jpg?size=541x216&quality=96&sign=9f8678b5a17e4a988fcbb6676dfbd833&type=album)"
   ]
  },
  {
   "cell_type": "markdown",
   "id": "c6a459bc",
   "metadata": {},
   "source": [
    "Проверим статус git"
   ]
  },
  {
   "cell_type": "markdown",
   "id": "485482e5",
   "metadata": {},
   "source": [
    "![](https://sun9-21.userapi.com/impg/cjKGgpHQ8jph8qbqBvQnR0vSUlza-B1yOyjvzQ/4DXfa1wj7OU.jpg?size=801x187&quality=96&sign=0ecc66186a2343a9bd8fcd3950573731&type=album)"
   ]
  },
  {
   "cell_type": "markdown",
   "id": "7172c7ab",
   "metadata": {},
   "source": [
    "Создадим новый текстовый файл в нашем проекте и зафиксируем оба файла для git"
   ]
  },
  {
   "cell_type": "markdown",
   "id": "a63c0965",
   "metadata": {},
   "source": [
    "![](https://sun9-84.userapi.com/impg/RxLJ7unhGS_Y3AJ4qGI15yiQORbpEtXv4-G-NA/yJGp6m9xL34.jpg?size=811x253&quality=96&sign=a6985ecc9f81b46eba55d66fceaf5a7c&type=album)"
   ]
  },
  {
   "cell_type": "markdown",
   "id": "0aa29a0a",
   "metadata": {},
   "source": [
    "Удалим созданный ранее нами текстовый файл из фиксации, после чего проверим статус git еще раз"
   ]
  },
  {
   "cell_type": "markdown",
   "id": "765751d9",
   "metadata": {},
   "source": [
    "![](https://sun9-66.userapi.com/impg/itdDlqpi5PmAptWAzhCM37FyKSdspr6GOpnh6A/jUN1Sw7r_BA.jpg?size=723x299&quality=96&sign=7034c425500b4e3d52870ec33de13495&type=album)"
   ]
  },
  {
   "cell_type": "markdown",
   "id": "a70048f0",
   "metadata": {},
   "source": [
    "Создадим коммит и проверим информацию о нём"
   ]
  },
  {
   "cell_type": "markdown",
   "id": "d9c6e396",
   "metadata": {},
   "source": [
    "![](https://sun9-31.userapi.com/impg/mBMyVjP3JaJdPaklIQCVqUkncoBaX4A4ggZ-pg/QgGs8uJRzIk.jpg?size=656x236&quality=96&sign=684bc0ecef34226139110991e36587b4&type=album)"
   ]
  },
  {
   "cell_type": "markdown",
   "id": "d4383afe",
   "metadata": {},
   "source": [
    "Дополним код ранее созданного нами модуля"
   ]
  },
  {
   "cell_type": "markdown",
   "id": "00e362ea",
   "metadata": {},
   "source": [
    "![](https://sun9-20.userapi.com/impg/Y-yGwKOQayIPpCVCd1kQeaARHGyfom7V7LVsKA/snD9UXovD2c.jpg?size=539x233&quality=96&sign=a4c85679ac59014466b47dfb956beb4f&type=album)"
   ]
  },
  {
   "cell_type": "markdown",
   "id": "4634e424",
   "metadata": {},
   "source": [
    "Проверим статус git, видим, что нам предлагают отменить изменения в рабочем каталоге"
   ]
  },
  {
   "cell_type": "markdown",
   "id": "0fd0ef94",
   "metadata": {},
   "source": [
    "![](https://sun9-72.userapi.com/impg/PVjfwppc99HypujrYlgLbECL5JprgTwviB0rew/vJqM6QkB9vc.jpg?size=634x213&quality=96&sign=51d73ffe955be54fab0044120eed9aca&type=album)"
   ]
  },
  {
   "cell_type": "markdown",
   "id": "55dc92bc",
   "metadata": {},
   "source": [
    "Проверим, какие изменения произошли"
   ]
  },
  {
   "cell_type": "markdown",
   "id": "a298c98f",
   "metadata": {},
   "source": [
    "![](https://sun9-87.userapi.com/impg/tW5n8zVOJYU6X0kcjzcD-T-5hufahxM-UXfyKw/f3qnlgw0t6E.jpg?size=815x188&quality=96&sign=a87ae42adf52c642305021140c9ecd7e&type=album)"
   ]
  },
  {
   "cell_type": "markdown",
   "id": "e4521db5",
   "metadata": {},
   "source": [
    "Добавим коммит"
   ]
  },
  {
   "cell_type": "markdown",
   "id": "7a0dd02e",
   "metadata": {},
   "source": [
    "![](https://sun9-10.userapi.com/impg/ifOMWUEryL9F0HNKlYXASdJQ9djyTG1M001Kbw/p77g6OUHRD8.jpg?size=787x287&quality=96&sign=89659408ccf347200bfc29ed49ee0e9d&type=album)"
   ]
  },
  {
   "cell_type": "markdown",
   "id": "f1ff3d7e",
   "metadata": {},
   "source": [
    "Добавим файлы из папки в новый коммит (в том числе отчёт о работе)"
   ]
  },
  {
   "cell_type": "markdown",
   "id": "39bebdb9",
   "metadata": {},
   "source": [
    "![](https://sun9-13.userapi.com/impg/xStb14k0jg8VPWckHJu7rKr8lcSiTRjmI0C2iA/ZFY0s8M0qF8.jpg?size=586x206&quality=96&sign=80a8488e5e9c3ddd162dcc45f2d2d1a6&type=album)"
   ]
  },
  {
   "cell_type": "markdown",
   "id": "ed0894f8",
   "metadata": {},
   "source": [
    "![](https://sun9-88.userapi.com/impg/BqpAsyedKRW6pdKbhxPbh0rCYfKftC9WlAbjog/2Lb1Rv1A4tY.jpg?size=590x87&quality=96&sign=c03b1a2f4782d7afe1b0631d2dce0cef&type=album)"
   ]
  },
  {
   "cell_type": "markdown",
   "id": "4ee8b918",
   "metadata": {},
   "source": [
    "![](https://sun9-55.userapi.com/impg/AnuIN7HW85kGJDxVJwDqvKvAnVTBFfZv7-uDKg/wdsiEwQJhuc.jpg?size=579x86&quality=96&sign=9b23d2e8ef40b2359e40d06785b3bbbf&type=album)"
   ]
  },
  {
   "cell_type": "markdown",
   "id": "ac2dc3ea",
   "metadata": {},
   "source": [
    "Проверим состояние и добавим еще один коммит"
   ]
  },
  {
   "cell_type": "markdown",
   "id": "d9b15a69",
   "metadata": {},
   "source": [
    "![](https://sun9-19.userapi.com/impg/gG0E7j3C0O53DVlh09psgjR4zt1KfXJfK2byJg/YXDDfkGS0gg.jpg?size=800x567&quality=96&sign=0831db65fe3329305649b622f2a54c91&type=album)"
   ]
  },
  {
   "cell_type": "markdown",
   "id": "a91ae180",
   "metadata": {},
   "source": [
    "Удалим файлы отчёта, добавим остальные файлы в новый коммит"
   ]
  },
  {
   "cell_type": "markdown",
   "id": "43d040ab",
   "metadata": {},
   "source": [
    "![](https://sun7-15.userapi.com/impg/ZUfAQMsBwsBU_oC-h5iCkb2YTzqkKf3WpFquZg/94g0I4taYfw.jpg?size=807x659&quality=96&sign=9bbd9c99814a84b1a83823b137737740&type=album)"
   ]
  },
  {
   "cell_type": "markdown",
   "id": "a0d129f6",
   "metadata": {},
   "source": [
    "Создадим новую ветку, проверим состояние коммитов и обнулим их до первого, после чего проверим состояние файла, которое мы изменяли в процессе создания коммитов"
   ]
  },
  {
   "cell_type": "markdown",
   "id": "fe387564",
   "metadata": {},
   "source": [
    "![](https://sun9-20.userapi.com/impg/BdswBJQwVUh2lK_rHEzp9a2RaJOr7cVWigzhmw/Doi1SpGCnsU.jpg?size=784x448&quality=96&sign=eab400a28ee762f1e17cc236e8cb75a8&type=album)"
   ]
  },
  {
   "cell_type": "markdown",
   "id": "a74c15b2",
   "metadata": {},
   "source": [
    "![](https://sun9-63.userapi.com/impg/Du9bNVVJ1qCrRrk6IMVj8Gs8xWsHS3YKNX-uOg/HCwQcmoQmY0.jpg?size=643x451&quality=96&sign=e520443f141f09b3ca278147f830a1af&type=album)"
   ]
  },
  {
   "cell_type": "markdown",
   "id": "51c17ae6",
   "metadata": {},
   "source": [
    "![](https://sun9-77.userapi.com/impg/IhblDaBDqdMZvVbJPbGg8-LqwPPGsuLeBLYFsA/-u8wt1H5BaA.jpg?size=284x174&quality=96&sign=d1a8579fcfd677574002c19e757c5b27&type=album)"
   ]
  },
  {
   "cell_type": "markdown",
   "id": "fd40291d",
   "metadata": {},
   "source": [
    "Вернёмся на предыдущую ветку и проверим состояние коммитов"
   ]
  },
  {
   "cell_type": "markdown",
   "id": "d19b11f2",
   "metadata": {},
   "source": [
    "![](https://sun9-52.userapi.com/impg/jQxJVO4HvS0s3L_IA6fLYSuaIv6KdIcmHoFV0A/COZbuAsWrdg.jpg?size=826x461&quality=96&sign=1272f000489dcf75e54a53c9551fbdec&type=album)"
   ]
  },
  {
   "cell_type": "markdown",
   "id": "7fbfe7b1",
   "metadata": {},
   "source": [
    "И нам модуль вернулся к изначальному состоянию"
   ]
  },
  {
   "cell_type": "markdown",
   "id": "9575683e",
   "metadata": {},
   "source": [
    "![](https://sun9-29.userapi.com/impg/PPN5fZvmNx_0uEYCOQdxyVR158QWvWkzt9mQNw/ZsWJ0AV54DA.jpg?size=529x211&quality=96&sign=993969faea5e52f79d6a364ce3f2c033&type=album)"
   ]
  },
  {
   "cell_type": "markdown",
   "id": "2ca65ee0",
   "metadata": {},
   "source": [
    "Отменим коммит с удалением отчётных файлов"
   ]
  },
  {
   "cell_type": "markdown",
   "id": "c908818e",
   "metadata": {},
   "source": [
    "![](https://sun9-43.userapi.com/impg/QWX-XPVNrUKk3mo4bvwwVsjrcm_uTR0wkePuDQ/iC9qT7LgQTQ.jpg?size=775x50&quality=96&sign=ab8b926f4abf5a844bef522e353bea30&type=album)"
   ]
  },
  {
   "cell_type": "markdown",
   "id": "f8da6d74",
   "metadata": {},
   "source": [
    "![](https://sun7-9.userapi.com/impg/TZSMHeQre5CHCLlIgJE-90uTiJ2UGhQ_GPhAig/qmj2C-N27dc.jpg?size=260x157&quality=96&sign=175d4a10b94a62ce8d2c09c00a6ce7e7&type=album)"
   ]
  },
  {
   "cell_type": "markdown",
   "id": "0271e497",
   "metadata": {},
   "source": [
    "Удалим последний коммит и проверим содержание проекта"
   ]
  },
  {
   "cell_type": "markdown",
   "id": "8c79fcdd",
   "metadata": {},
   "source": [
    "![](https://sun9-49.userapi.com/impg/LUNuaTifX_NjuC6JrhBR6ah2uPQlj_pSY639BA/gAF1hTbpmWU.jpg?size=782x63&quality=96&sign=cd55e4776cd8aca7dcf36b0a5c27ebdd&type=album)"
   ]
  },
  {
   "cell_type": "markdown",
   "id": "7b2bcd76",
   "metadata": {},
   "source": [
    "![](https://sun9-11.userapi.com/impg/eNW51ZQjXQuyXuwYmUTU6w4EYD1Db62ZJzf_2Q/HAt774bfBR8.jpg?size=260x102&quality=96&sign=8823a0a887285e5732f5b8cd78c4d658&type=album)"
   ]
  },
  {
   "cell_type": "markdown",
   "id": "cc8f45ac",
   "metadata": {},
   "source": [
    "Просмотрим содержимое commit с помощью gitk"
   ]
  },
  {
   "cell_type": "markdown",
   "id": "28ccbd0c",
   "metadata": {},
   "source": [
    "![](https://sun9-85.userapi.com/impg/I7MTQUnjXDeH_-IgZsd9pVOy4UiR3qDD4nERSA/tz2YXZshRGY.jpg?size=776x508&quality=96&sign=2f421ef36b8ba056b51459e9f3cd7f82&type=album)"
   ]
  },
  {
   "cell_type": "code",
   "execution_count": null,
   "id": "308d7331",
   "metadata": {},
   "outputs": [],
   "source": []
  }
 ],
 "metadata": {
  "kernelspec": {
   "display_name": "Python 3 (ipykernel)",
   "language": "python",
   "name": "python3"
  },
  "language_info": {
   "codemirror_mode": {
    "name": "ipython",
    "version": 3
   },
   "file_extension": ".py",
   "mimetype": "text/x-python",
   "name": "python",
   "nbconvert_exporter": "python",
   "pygments_lexer": "ipython3",
   "version": "3.9.12"
  }
 },
 "nbformat": 4,
 "nbformat_minor": 5
}
